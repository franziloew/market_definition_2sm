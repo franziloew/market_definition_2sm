{
 "cells": [
  {
   "cell_type": "code",
   "execution_count": 1,
   "metadata": {},
   "outputs": [],
   "source": [
    "import pandas as pd\n",
    "import numpy as np\n",
    "import pickle\n",
    "from eventregistry import *"
   ]
  },
  {
   "cell_type": "code",
   "execution_count": 5,
   "metadata": {},
   "outputs": [
    {
     "name": "stdout",
     "output_type": "stream",
     "text": [
      "using user provided API key for making requests\n",
      "Event Registry host: http://eventregistry.org\n",
      "Text analytics host: http://analytics.eventregistry.org\n"
     ]
    }
   ],
   "source": [
    "er = EventRegistry(apiKey = \"982d38c0-9ade-4245-8dd5-5e44783a6570\")"
   ]
  },
  {
   "cell_type": "markdown",
   "metadata": {},
   "source": [
    "## Get Articles \"by hand\""
   ]
  },
  {
   "cell_type": "code",
   "execution_count": 3,
   "metadata": {},
   "outputs": [],
   "source": [
    "uri_list = [\"n-tv.de\",\"handelsblatt.com\",\"faz.net\",\"sueddeutsche.de\", \n",
    "            \"stern.de\",\"spiegel.de\",\"focus.de\",\"welt.de\",\"zeit.de\",\"bild.de\",\n",
    "            \"tagesschau.de\",\"deutschlandfunk.de\",\"heute.de\",\"ndr.de\",\"wdr.de\",\"swr.de\"]"
   ]
  },
  {
   "cell_type": "markdown",
   "metadata": {},
   "source": [
    "### Get article URIs"
   ]
  },
  {
   "cell_type": "code",
   "execution_count": 8,
   "metadata": {},
   "outputs": [],
   "source": [
    "articleUriList = []\n",
    "\n",
    "for uri in uri_list:\n",
    "    query = QueryArticles(sourceUri = uri,\n",
    "                         dateStart = datetime.date(2018,8,25),\n",
    "                         dateEnd = datetime.date(2018,9,25))\n",
    "    query.setRequestedResult(RequestArticlesUriWgtList())\n",
    "    result = er.execQuery(query)\n",
    "    # take the list of article URIs that match the search criteria\n",
    "    articleUriList += result.get(\"uriWgtList\",{}).get(\"results\",[])"
   ]
  },
  {
   "cell_type": "code",
   "execution_count": 9,
   "metadata": {},
   "outputs": [
    {
     "data": {
      "text/plain": [
       "64096"
      ]
     },
     "execution_count": 9,
     "metadata": {},
     "output_type": "execute_result"
    }
   ],
   "source": [
    "len(articleUriList)"
   ]
  },
  {
   "cell_type": "markdown",
   "metadata": {},
   "source": [
    "### Get articles"
   ]
  },
  {
   "cell_type": "code",
   "execution_count": 10,
   "metadata": {},
   "outputs": [
    {
     "name": "stdout",
     "output_type": "stream",
     "text": [
      "Event Registry exception while executing the request:\n",
      "('Connection aborted.', RemoteDisconnected('Remote end closed connection without response',))\n",
      "Event Registry exception while executing the request:\n",
      "You have used all daily tokens for unsubscribed users. In order to continue using Event Registry wait until tomorrow or subscribe to a paid plan.\n",
      "Event Registry exception while executing the request:\n",
      "You have used all daily tokens for unsubscribed users. In order to continue using Event Registry wait until tomorrow or subscribe to a paid plan.\n",
      "Event Registry exception while executing the request:\n",
      "You have used all daily tokens for unsubscribed users. In order to continue using Event Registry wait until tomorrow or subscribe to a paid plan.\n",
      "Event Registry exception while executing the request:\n",
      "You have used all daily tokens for unsubscribed users. In order to continue using Event Registry wait until tomorrow or subscribe to a paid plan.\n",
      "Event Registry exception while executing the request:\n",
      "You have used all daily tokens for unsubscribed users. In order to continue using Event Registry wait until tomorrow or subscribe to a paid plan.\n",
      "Event Registry exception while executing the request:\n",
      "You have used all daily tokens for unsubscribed users. In order to continue using Event Registry wait until tomorrow or subscribe to a paid plan.\n",
      "Event Registry exception while executing the request:\n",
      "You have used all daily tokens for unsubscribed users. In order to continue using Event Registry wait until tomorrow or subscribe to a paid plan.\n",
      "Event Registry exception while executing the request:\n",
      "You have used all daily tokens for unsubscribed users. In order to continue using Event Registry wait until tomorrow or subscribe to a paid plan.\n"
     ]
    },
    {
     "ename": "KeyboardInterrupt",
     "evalue": "",
     "output_type": "error",
     "traceback": [
      "\u001b[0;31m---------------------------------------------------------------------------\u001b[0m",
      "\u001b[0;31mTypeError\u001b[0m                                 Traceback (most recent call last)",
      "\u001b[0;32m/Library/Frameworks/Python.framework/Versions/3.6/lib/python3.6/site-packages/urllib3/connectionpool.py\u001b[0m in \u001b[0;36m_make_request\u001b[0;34m(self, conn, method, url, timeout, chunked, **httplib_request_kw)\u001b[0m\n\u001b[1;32m    376\u001b[0m             \u001b[0;32mtry\u001b[0m\u001b[0;34m:\u001b[0m  \u001b[0;31m# Python 2.7, use buffering of HTTP responses\u001b[0m\u001b[0;34m\u001b[0m\u001b[0m\n\u001b[0;32m--> 377\u001b[0;31m                 \u001b[0mhttplib_response\u001b[0m \u001b[0;34m=\u001b[0m \u001b[0mconn\u001b[0m\u001b[0;34m.\u001b[0m\u001b[0mgetresponse\u001b[0m\u001b[0;34m(\u001b[0m\u001b[0mbuffering\u001b[0m\u001b[0;34m=\u001b[0m\u001b[0;32mTrue\u001b[0m\u001b[0;34m)\u001b[0m\u001b[0;34m\u001b[0m\u001b[0m\n\u001b[0m\u001b[1;32m    378\u001b[0m             \u001b[0;32mexcept\u001b[0m \u001b[0mTypeError\u001b[0m\u001b[0;34m:\u001b[0m  \u001b[0;31m# Python 2.6 and older, Python 3\u001b[0m\u001b[0;34m\u001b[0m\u001b[0m\n",
      "\u001b[0;31mTypeError\u001b[0m: getresponse() got an unexpected keyword argument 'buffering'",
      "\nDuring handling of the above exception, another exception occurred:\n",
      "\u001b[0;31mKeyboardInterrupt\u001b[0m                         Traceback (most recent call last)",
      "\u001b[0;32m<ipython-input-10-11ce9094fa90>\u001b[0m in \u001b[0;36m<module>\u001b[0;34m()\u001b[0m\n\u001b[1;32m     12\u001b[0m         ))\n\u001b[1;32m     13\u001b[0m \u001b[0;34m\u001b[0m\u001b[0m\n\u001b[0;32m---> 14\u001b[0;31m     \u001b[0mresult_all\u001b[0m \u001b[0;34m+=\u001b[0m \u001b[0mer\u001b[0m\u001b[0;34m.\u001b[0m\u001b[0mexecQuery\u001b[0m\u001b[0;34m(\u001b[0m\u001b[0mq\u001b[0m\u001b[0;34m)\u001b[0m\u001b[0;34m[\u001b[0m\u001b[0;34m'articles'\u001b[0m\u001b[0;34m]\u001b[0m\u001b[0;34m[\u001b[0m\u001b[0;34m'results'\u001b[0m\u001b[0;34m]\u001b[0m\u001b[0;34m\u001b[0m\u001b[0m\n\u001b[0m",
      "\u001b[0;32m/Library/Frameworks/Python.framework/Versions/3.6/lib/python3.6/site-packages/eventregistry/EventRegistry.py\u001b[0m in \u001b[0;36mexecQuery\u001b[0;34m(self, query, allowUseOfArchive)\u001b[0m\n\u001b[1;32m    207\u001b[0m         \u001b[0mallParams\u001b[0m \u001b[0;34m=\u001b[0m \u001b[0mquery\u001b[0m\u001b[0;34m.\u001b[0m\u001b[0m_getQueryParams\u001b[0m\u001b[0;34m(\u001b[0m\u001b[0;34m)\u001b[0m\u001b[0;34m\u001b[0m\u001b[0m\n\u001b[1;32m    208\u001b[0m         \u001b[0;31m# make the request\u001b[0m\u001b[0;34m\u001b[0m\u001b[0;34m\u001b[0m\u001b[0m\n\u001b[0;32m--> 209\u001b[0;31m         \u001b[0mrespInfo\u001b[0m \u001b[0;34m=\u001b[0m \u001b[0mself\u001b[0m\u001b[0;34m.\u001b[0m\u001b[0mjsonRequest\u001b[0m\u001b[0;34m(\u001b[0m\u001b[0mquery\u001b[0m\u001b[0;34m.\u001b[0m\u001b[0m_getPath\u001b[0m\u001b[0;34m(\u001b[0m\u001b[0;34m)\u001b[0m\u001b[0;34m,\u001b[0m \u001b[0mallParams\u001b[0m\u001b[0;34m,\u001b[0m \u001b[0mallowUseOfArchive\u001b[0m \u001b[0;34m=\u001b[0m \u001b[0mallowUseOfArchive\u001b[0m\u001b[0;34m)\u001b[0m\u001b[0;34m\u001b[0m\u001b[0m\n\u001b[0m\u001b[1;32m    210\u001b[0m         \u001b[0;32mreturn\u001b[0m \u001b[0mrespInfo\u001b[0m\u001b[0;34m\u001b[0m\u001b[0m\n\u001b[1;32m    211\u001b[0m \u001b[0;34m\u001b[0m\u001b[0m\n",
      "\u001b[0;32m/Library/Frameworks/Python.framework/Versions/3.6/lib/python3.6/site-packages/eventregistry/EventRegistry.py\u001b[0m in \u001b[0;36mjsonRequest\u001b[0;34m(self, methodUrl, paramDict, customLogFName, allowUseOfArchive)\u001b[0m\n\u001b[1;32m    260\u001b[0m \u001b[0;34m\u001b[0m\u001b[0m\n\u001b[1;32m    261\u001b[0m                 \u001b[0;31m# make the request\u001b[0m\u001b[0;34m\u001b[0m\u001b[0;34m\u001b[0m\u001b[0m\n\u001b[0;32m--> 262\u001b[0;31m                 \u001b[0mrespInfo\u001b[0m \u001b[0;34m=\u001b[0m \u001b[0mself\u001b[0m\u001b[0;34m.\u001b[0m\u001b[0m_reqSession\u001b[0m\u001b[0;34m.\u001b[0m\u001b[0mpost\u001b[0m\u001b[0;34m(\u001b[0m\u001b[0murl\u001b[0m\u001b[0;34m,\u001b[0m \u001b[0mjson\u001b[0m \u001b[0;34m=\u001b[0m \u001b[0mparamDict\u001b[0m\u001b[0;34m)\u001b[0m\u001b[0;34m\u001b[0m\u001b[0m\n\u001b[0m\u001b[1;32m    263\u001b[0m                 \u001b[0;31m# remember the returned headers\u001b[0m\u001b[0;34m\u001b[0m\u001b[0;34m\u001b[0m\u001b[0m\n\u001b[1;32m    264\u001b[0m                 \u001b[0mself\u001b[0m\u001b[0;34m.\u001b[0m\u001b[0m_headers\u001b[0m \u001b[0;34m=\u001b[0m \u001b[0mrespInfo\u001b[0m\u001b[0;34m.\u001b[0m\u001b[0mheaders\u001b[0m\u001b[0;34m\u001b[0m\u001b[0m\n",
      "\u001b[0;32m/Library/Frameworks/Python.framework/Versions/3.6/lib/python3.6/site-packages/requests/sessions.py\u001b[0m in \u001b[0;36mpost\u001b[0;34m(self, url, data, json, **kwargs)\u001b[0m\n\u001b[1;32m    557\u001b[0m         \"\"\"\n\u001b[1;32m    558\u001b[0m \u001b[0;34m\u001b[0m\u001b[0m\n\u001b[0;32m--> 559\u001b[0;31m         \u001b[0;32mreturn\u001b[0m \u001b[0mself\u001b[0m\u001b[0;34m.\u001b[0m\u001b[0mrequest\u001b[0m\u001b[0;34m(\u001b[0m\u001b[0;34m'POST'\u001b[0m\u001b[0;34m,\u001b[0m \u001b[0murl\u001b[0m\u001b[0;34m,\u001b[0m \u001b[0mdata\u001b[0m\u001b[0;34m=\u001b[0m\u001b[0mdata\u001b[0m\u001b[0;34m,\u001b[0m \u001b[0mjson\u001b[0m\u001b[0;34m=\u001b[0m\u001b[0mjson\u001b[0m\u001b[0;34m,\u001b[0m \u001b[0;34m**\u001b[0m\u001b[0mkwargs\u001b[0m\u001b[0;34m)\u001b[0m\u001b[0;34m\u001b[0m\u001b[0m\n\u001b[0m\u001b[1;32m    560\u001b[0m \u001b[0;34m\u001b[0m\u001b[0m\n\u001b[1;32m    561\u001b[0m     \u001b[0;32mdef\u001b[0m \u001b[0mput\u001b[0m\u001b[0;34m(\u001b[0m\u001b[0mself\u001b[0m\u001b[0;34m,\u001b[0m \u001b[0murl\u001b[0m\u001b[0;34m,\u001b[0m \u001b[0mdata\u001b[0m\u001b[0;34m=\u001b[0m\u001b[0;32mNone\u001b[0m\u001b[0;34m,\u001b[0m \u001b[0;34m**\u001b[0m\u001b[0mkwargs\u001b[0m\u001b[0;34m)\u001b[0m\u001b[0;34m:\u001b[0m\u001b[0;34m\u001b[0m\u001b[0m\n",
      "\u001b[0;32m/Library/Frameworks/Python.framework/Versions/3.6/lib/python3.6/site-packages/requests/sessions.py\u001b[0m in \u001b[0;36mrequest\u001b[0;34m(self, method, url, params, data, headers, cookies, files, auth, timeout, allow_redirects, proxies, hooks, stream, verify, cert, json)\u001b[0m\n\u001b[1;32m    510\u001b[0m         }\n\u001b[1;32m    511\u001b[0m         \u001b[0msend_kwargs\u001b[0m\u001b[0;34m.\u001b[0m\u001b[0mupdate\u001b[0m\u001b[0;34m(\u001b[0m\u001b[0msettings\u001b[0m\u001b[0;34m)\u001b[0m\u001b[0;34m\u001b[0m\u001b[0m\n\u001b[0;32m--> 512\u001b[0;31m         \u001b[0mresp\u001b[0m \u001b[0;34m=\u001b[0m \u001b[0mself\u001b[0m\u001b[0;34m.\u001b[0m\u001b[0msend\u001b[0m\u001b[0;34m(\u001b[0m\u001b[0mprep\u001b[0m\u001b[0;34m,\u001b[0m \u001b[0;34m**\u001b[0m\u001b[0msend_kwargs\u001b[0m\u001b[0;34m)\u001b[0m\u001b[0;34m\u001b[0m\u001b[0m\n\u001b[0m\u001b[1;32m    513\u001b[0m \u001b[0;34m\u001b[0m\u001b[0m\n\u001b[1;32m    514\u001b[0m         \u001b[0;32mreturn\u001b[0m \u001b[0mresp\u001b[0m\u001b[0;34m\u001b[0m\u001b[0m\n",
      "\u001b[0;32m/Library/Frameworks/Python.framework/Versions/3.6/lib/python3.6/site-packages/requests/sessions.py\u001b[0m in \u001b[0;36msend\u001b[0;34m(self, request, **kwargs)\u001b[0m\n\u001b[1;32m    620\u001b[0m \u001b[0;34m\u001b[0m\u001b[0m\n\u001b[1;32m    621\u001b[0m         \u001b[0;31m# Send the request\u001b[0m\u001b[0;34m\u001b[0m\u001b[0;34m\u001b[0m\u001b[0m\n\u001b[0;32m--> 622\u001b[0;31m         \u001b[0mr\u001b[0m \u001b[0;34m=\u001b[0m \u001b[0madapter\u001b[0m\u001b[0;34m.\u001b[0m\u001b[0msend\u001b[0m\u001b[0;34m(\u001b[0m\u001b[0mrequest\u001b[0m\u001b[0;34m,\u001b[0m \u001b[0;34m**\u001b[0m\u001b[0mkwargs\u001b[0m\u001b[0;34m)\u001b[0m\u001b[0;34m\u001b[0m\u001b[0m\n\u001b[0m\u001b[1;32m    623\u001b[0m \u001b[0;34m\u001b[0m\u001b[0m\n\u001b[1;32m    624\u001b[0m         \u001b[0;31m# Total elapsed time of the request (approximately)\u001b[0m\u001b[0;34m\u001b[0m\u001b[0;34m\u001b[0m\u001b[0m\n",
      "\u001b[0;32m/Library/Frameworks/Python.framework/Versions/3.6/lib/python3.6/site-packages/requests/adapters.py\u001b[0m in \u001b[0;36msend\u001b[0;34m(self, request, stream, timeout, verify, cert, proxies)\u001b[0m\n\u001b[1;32m    443\u001b[0m                     \u001b[0mdecode_content\u001b[0m\u001b[0;34m=\u001b[0m\u001b[0;32mFalse\u001b[0m\u001b[0;34m,\u001b[0m\u001b[0;34m\u001b[0m\u001b[0m\n\u001b[1;32m    444\u001b[0m                     \u001b[0mretries\u001b[0m\u001b[0;34m=\u001b[0m\u001b[0mself\u001b[0m\u001b[0;34m.\u001b[0m\u001b[0mmax_retries\u001b[0m\u001b[0;34m,\u001b[0m\u001b[0;34m\u001b[0m\u001b[0m\n\u001b[0;32m--> 445\u001b[0;31m                     \u001b[0mtimeout\u001b[0m\u001b[0;34m=\u001b[0m\u001b[0mtimeout\u001b[0m\u001b[0;34m\u001b[0m\u001b[0m\n\u001b[0m\u001b[1;32m    446\u001b[0m                 )\n\u001b[1;32m    447\u001b[0m \u001b[0;34m\u001b[0m\u001b[0m\n",
      "\u001b[0;32m/Library/Frameworks/Python.framework/Versions/3.6/lib/python3.6/site-packages/urllib3/connectionpool.py\u001b[0m in \u001b[0;36murlopen\u001b[0;34m(self, method, url, body, headers, retries, redirect, assert_same_host, timeout, pool_timeout, release_conn, chunked, body_pos, **response_kw)\u001b[0m\n\u001b[1;32m    598\u001b[0m                                                   \u001b[0mtimeout\u001b[0m\u001b[0;34m=\u001b[0m\u001b[0mtimeout_obj\u001b[0m\u001b[0;34m,\u001b[0m\u001b[0;34m\u001b[0m\u001b[0m\n\u001b[1;32m    599\u001b[0m                                                   \u001b[0mbody\u001b[0m\u001b[0;34m=\u001b[0m\u001b[0mbody\u001b[0m\u001b[0;34m,\u001b[0m \u001b[0mheaders\u001b[0m\u001b[0;34m=\u001b[0m\u001b[0mheaders\u001b[0m\u001b[0;34m,\u001b[0m\u001b[0;34m\u001b[0m\u001b[0m\n\u001b[0;32m--> 600\u001b[0;31m                                                   chunked=chunked)\n\u001b[0m\u001b[1;32m    601\u001b[0m \u001b[0;34m\u001b[0m\u001b[0m\n\u001b[1;32m    602\u001b[0m             \u001b[0;31m# If we're going to release the connection in ``finally:``, then\u001b[0m\u001b[0;34m\u001b[0m\u001b[0;34m\u001b[0m\u001b[0m\n",
      "\u001b[0;32m/Library/Frameworks/Python.framework/Versions/3.6/lib/python3.6/site-packages/urllib3/connectionpool.py\u001b[0m in \u001b[0;36m_make_request\u001b[0;34m(self, conn, method, url, timeout, chunked, **httplib_request_kw)\u001b[0m\n\u001b[1;32m    378\u001b[0m             \u001b[0;32mexcept\u001b[0m \u001b[0mTypeError\u001b[0m\u001b[0;34m:\u001b[0m  \u001b[0;31m# Python 2.6 and older, Python 3\u001b[0m\u001b[0;34m\u001b[0m\u001b[0m\n\u001b[1;32m    379\u001b[0m                 \u001b[0;32mtry\u001b[0m\u001b[0;34m:\u001b[0m\u001b[0;34m\u001b[0m\u001b[0m\n\u001b[0;32m--> 380\u001b[0;31m                     \u001b[0mhttplib_response\u001b[0m \u001b[0;34m=\u001b[0m \u001b[0mconn\u001b[0m\u001b[0;34m.\u001b[0m\u001b[0mgetresponse\u001b[0m\u001b[0;34m(\u001b[0m\u001b[0;34m)\u001b[0m\u001b[0;34m\u001b[0m\u001b[0m\n\u001b[0m\u001b[1;32m    381\u001b[0m                 \u001b[0;32mexcept\u001b[0m \u001b[0mException\u001b[0m \u001b[0;32mas\u001b[0m \u001b[0me\u001b[0m\u001b[0;34m:\u001b[0m\u001b[0;34m\u001b[0m\u001b[0m\n\u001b[1;32m    382\u001b[0m                     \u001b[0;31m# Remove the TypeError from the exception chain in Python 3;\u001b[0m\u001b[0;34m\u001b[0m\u001b[0;34m\u001b[0m\u001b[0m\n",
      "\u001b[0;32m/Library/Frameworks/Python.framework/Versions/3.6/lib/python3.6/http/client.py\u001b[0m in \u001b[0;36mgetresponse\u001b[0;34m(self)\u001b[0m\n\u001b[1;32m   1329\u001b[0m         \u001b[0;32mtry\u001b[0m\u001b[0;34m:\u001b[0m\u001b[0;34m\u001b[0m\u001b[0m\n\u001b[1;32m   1330\u001b[0m             \u001b[0;32mtry\u001b[0m\u001b[0;34m:\u001b[0m\u001b[0;34m\u001b[0m\u001b[0m\n\u001b[0;32m-> 1331\u001b[0;31m                 \u001b[0mresponse\u001b[0m\u001b[0;34m.\u001b[0m\u001b[0mbegin\u001b[0m\u001b[0;34m(\u001b[0m\u001b[0;34m)\u001b[0m\u001b[0;34m\u001b[0m\u001b[0m\n\u001b[0m\u001b[1;32m   1332\u001b[0m             \u001b[0;32mexcept\u001b[0m \u001b[0mConnectionError\u001b[0m\u001b[0;34m:\u001b[0m\u001b[0;34m\u001b[0m\u001b[0m\n\u001b[1;32m   1333\u001b[0m                 \u001b[0mself\u001b[0m\u001b[0;34m.\u001b[0m\u001b[0mclose\u001b[0m\u001b[0;34m(\u001b[0m\u001b[0;34m)\u001b[0m\u001b[0;34m\u001b[0m\u001b[0m\n",
      "\u001b[0;32m/Library/Frameworks/Python.framework/Versions/3.6/lib/python3.6/http/client.py\u001b[0m in \u001b[0;36mbegin\u001b[0;34m(self)\u001b[0m\n\u001b[1;32m    295\u001b[0m         \u001b[0;31m# read until we get a non-100 response\u001b[0m\u001b[0;34m\u001b[0m\u001b[0;34m\u001b[0m\u001b[0m\n\u001b[1;32m    296\u001b[0m         \u001b[0;32mwhile\u001b[0m \u001b[0;32mTrue\u001b[0m\u001b[0;34m:\u001b[0m\u001b[0;34m\u001b[0m\u001b[0m\n\u001b[0;32m--> 297\u001b[0;31m             \u001b[0mversion\u001b[0m\u001b[0;34m,\u001b[0m \u001b[0mstatus\u001b[0m\u001b[0;34m,\u001b[0m \u001b[0mreason\u001b[0m \u001b[0;34m=\u001b[0m \u001b[0mself\u001b[0m\u001b[0;34m.\u001b[0m\u001b[0m_read_status\u001b[0m\u001b[0;34m(\u001b[0m\u001b[0;34m)\u001b[0m\u001b[0;34m\u001b[0m\u001b[0m\n\u001b[0m\u001b[1;32m    298\u001b[0m             \u001b[0;32mif\u001b[0m \u001b[0mstatus\u001b[0m \u001b[0;34m!=\u001b[0m \u001b[0mCONTINUE\u001b[0m\u001b[0;34m:\u001b[0m\u001b[0;34m\u001b[0m\u001b[0m\n\u001b[1;32m    299\u001b[0m                 \u001b[0;32mbreak\u001b[0m\u001b[0;34m\u001b[0m\u001b[0m\n",
      "\u001b[0;32m/Library/Frameworks/Python.framework/Versions/3.6/lib/python3.6/http/client.py\u001b[0m in \u001b[0;36m_read_status\u001b[0;34m(self)\u001b[0m\n\u001b[1;32m    256\u001b[0m \u001b[0;34m\u001b[0m\u001b[0m\n\u001b[1;32m    257\u001b[0m     \u001b[0;32mdef\u001b[0m \u001b[0m_read_status\u001b[0m\u001b[0;34m(\u001b[0m\u001b[0mself\u001b[0m\u001b[0;34m)\u001b[0m\u001b[0;34m:\u001b[0m\u001b[0;34m\u001b[0m\u001b[0m\n\u001b[0;32m--> 258\u001b[0;31m         \u001b[0mline\u001b[0m \u001b[0;34m=\u001b[0m \u001b[0mstr\u001b[0m\u001b[0;34m(\u001b[0m\u001b[0mself\u001b[0m\u001b[0;34m.\u001b[0m\u001b[0mfp\u001b[0m\u001b[0;34m.\u001b[0m\u001b[0mreadline\u001b[0m\u001b[0;34m(\u001b[0m\u001b[0m_MAXLINE\u001b[0m \u001b[0;34m+\u001b[0m \u001b[0;36m1\u001b[0m\u001b[0;34m)\u001b[0m\u001b[0;34m,\u001b[0m \u001b[0;34m\"iso-8859-1\"\u001b[0m\u001b[0;34m)\u001b[0m\u001b[0;34m\u001b[0m\u001b[0m\n\u001b[0m\u001b[1;32m    259\u001b[0m         \u001b[0;32mif\u001b[0m \u001b[0mlen\u001b[0m\u001b[0;34m(\u001b[0m\u001b[0mline\u001b[0m\u001b[0;34m)\u001b[0m \u001b[0;34m>\u001b[0m \u001b[0m_MAXLINE\u001b[0m\u001b[0;34m:\u001b[0m\u001b[0;34m\u001b[0m\u001b[0m\n\u001b[1;32m    260\u001b[0m             \u001b[0;32mraise\u001b[0m \u001b[0mLineTooLong\u001b[0m\u001b[0;34m(\u001b[0m\u001b[0;34m\"status line\"\u001b[0m\u001b[0;34m)\u001b[0m\u001b[0;34m\u001b[0m\u001b[0m\n",
      "\u001b[0;32m/Library/Frameworks/Python.framework/Versions/3.6/lib/python3.6/socket.py\u001b[0m in \u001b[0;36mreadinto\u001b[0;34m(self, b)\u001b[0m\n\u001b[1;32m    584\u001b[0m         \u001b[0;32mwhile\u001b[0m \u001b[0;32mTrue\u001b[0m\u001b[0;34m:\u001b[0m\u001b[0;34m\u001b[0m\u001b[0m\n\u001b[1;32m    585\u001b[0m             \u001b[0;32mtry\u001b[0m\u001b[0;34m:\u001b[0m\u001b[0;34m\u001b[0m\u001b[0m\n\u001b[0;32m--> 586\u001b[0;31m                 \u001b[0;32mreturn\u001b[0m \u001b[0mself\u001b[0m\u001b[0;34m.\u001b[0m\u001b[0m_sock\u001b[0m\u001b[0;34m.\u001b[0m\u001b[0mrecv_into\u001b[0m\u001b[0;34m(\u001b[0m\u001b[0mb\u001b[0m\u001b[0;34m)\u001b[0m\u001b[0;34m\u001b[0m\u001b[0m\n\u001b[0m\u001b[1;32m    587\u001b[0m             \u001b[0;32mexcept\u001b[0m \u001b[0mtimeout\u001b[0m\u001b[0;34m:\u001b[0m\u001b[0;34m\u001b[0m\u001b[0m\n\u001b[1;32m    588\u001b[0m                 \u001b[0mself\u001b[0m\u001b[0;34m.\u001b[0m\u001b[0m_timeout_occurred\u001b[0m \u001b[0;34m=\u001b[0m \u001b[0;32mTrue\u001b[0m\u001b[0;34m\u001b[0m\u001b[0m\n",
      "\u001b[0;31mKeyboardInterrupt\u001b[0m: "
     ]
    }
   ],
   "source": [
    "result_all = []\n",
    "n_arts = 100 # Max of 100 articles returned per call\n",
    "\n",
    "for i in range(0, len(articleUriList),n_arts):\n",
    "    small_uri_list = articleUriList[i:i + n_arts]\n",
    "    q = QueryArticles.initWithArticleUriWgtList(small_uri_list)\n",
    "    q.setRequestedResult(\n",
    "        RequestArticlesInfo(\n",
    "            count=n_arts,\n",
    "            returnInfo=ReturnInfo(\n",
    "                articleInfo=ArticleInfoFlags(bodyLen=-1, socialScore = True))\n",
    "        ))\n",
    "    \n",
    "    result_all += er.execQuery(q)['articles']['results']"
   ]
  },
  {
   "cell_type": "code",
   "execution_count": 11,
   "metadata": {},
   "outputs": [],
   "source": [
    "df = pd.DataFrame(result_all)"
   ]
  },
  {
   "cell_type": "code",
   "execution_count": 12,
   "metadata": {},
   "outputs": [
    {
     "data": {
      "text/plain": [
       "(46900, 16)"
      ]
     },
     "execution_count": 12,
     "metadata": {},
     "output_type": "execute_result"
    }
   ],
   "source": [
    "df.shape"
   ]
  },
  {
   "cell_type": "code",
   "execution_count": 13,
   "metadata": {},
   "outputs": [
    {
     "data": {
      "text/html": [
       "<div>\n",
       "<style scoped>\n",
       "    .dataframe tbody tr th:only-of-type {\n",
       "        vertical-align: middle;\n",
       "    }\n",
       "\n",
       "    .dataframe tbody tr th {\n",
       "        vertical-align: top;\n",
       "    }\n",
       "\n",
       "    .dataframe thead th {\n",
       "        text-align: right;\n",
       "    }\n",
       "</style>\n",
       "<table border=\"1\" class=\"dataframe\">\n",
       "  <thead>\n",
       "    <tr style=\"text-align: right;\">\n",
       "      <th></th>\n",
       "      <th>authors</th>\n",
       "      <th>body</th>\n",
       "      <th>dataType</th>\n",
       "      <th>date</th>\n",
       "      <th>dateTime</th>\n",
       "      <th>eventUri</th>\n",
       "      <th>isDuplicate</th>\n",
       "      <th>lang</th>\n",
       "      <th>shares</th>\n",
       "      <th>sim</th>\n",
       "      <th>source</th>\n",
       "      <th>time</th>\n",
       "      <th>title</th>\n",
       "      <th>uri</th>\n",
       "      <th>url</th>\n",
       "      <th>wgt</th>\n",
       "    </tr>\n",
       "  </thead>\n",
       "  <tbody>\n",
       "    <tr>\n",
       "      <th>0</th>\n",
       "      <td>[]</td>\n",
       "      <td>Werder Bremen ist nun Bayern-Jäger Nummer eins...</td>\n",
       "      <td>news</td>\n",
       "      <td>2018-09-25</td>\n",
       "      <td>2018-09-25T18:40:00Z</td>\n",
       "      <td>deu-941965</td>\n",
       "      <td>False</td>\n",
       "      <td>deu</td>\n",
       "      <td>{'facebook': 3}</td>\n",
       "      <td>0.576471</td>\n",
       "      <td>{'uri': 'n-tv.de', 'dataType': 'news', 'title'...</td>\n",
       "      <td>18:40:00</td>\n",
       "      <td>Kohfeldts Festung hält Stand: Bremen erzwingt ...</td>\n",
       "      <td>954659464</td>\n",
       "      <td>https://www.n-tv.de/sport/fussball/Bremen-erzw...</td>\n",
       "      <td>275596800</td>\n",
       "    </tr>\n",
       "    <tr>\n",
       "      <th>1</th>\n",
       "      <td>[]</td>\n",
       "      <td>Der 1. FC Köln verhagelt dem neuen Ingolstadt-...</td>\n",
       "      <td>news</td>\n",
       "      <td>2018-09-25</td>\n",
       "      <td>2018-09-25T18:40:00Z</td>\n",
       "      <td>deu-942798</td>\n",
       "      <td>False</td>\n",
       "      <td>deu</td>\n",
       "      <td>{}</td>\n",
       "      <td>0.486275</td>\n",
       "      <td>{'uri': 'n-tv.de', 'dataType': 'news', 'title'...</td>\n",
       "      <td>18:40:00</td>\n",
       "      <td>Union Berlin siegt Last Minute: Köln baut Führ...</td>\n",
       "      <td>954659463</td>\n",
       "      <td>https://www.n-tv.de/sport/fussball/Koeln-baut-...</td>\n",
       "      <td>275596800</td>\n",
       "    </tr>\n",
       "    <tr>\n",
       "      <th>2</th>\n",
       "      <td>[]</td>\n",
       "      <td>Eine Frau verabredet sich mit einem Bundeswehr...</td>\n",
       "      <td>news</td>\n",
       "      <td>2018-09-25</td>\n",
       "      <td>2018-09-25T18:17:00Z</td>\n",
       "      <td>eng-4296380</td>\n",
       "      <td>False</td>\n",
       "      <td>deu</td>\n",
       "      <td>{}</td>\n",
       "      <td>0.682353</td>\n",
       "      <td>{'uri': 'n-tv.de', 'dataType': 'news', 'title'...</td>\n",
       "      <td>18:17:00</td>\n",
       "      <td>Sexualdelikt in Kaserne: Soldat soll 21-Jährig...</td>\n",
       "      <td>954645925</td>\n",
       "      <td>https://www.n-tv.de/panorama/Soldat-soll-21-Ja...</td>\n",
       "      <td>275595420</td>\n",
       "    </tr>\n",
       "    <tr>\n",
       "      <th>3</th>\n",
       "      <td>[]</td>\n",
       "      <td>Anfang Oktober soll die Gruppierung \"Juden in ...</td>\n",
       "      <td>news</td>\n",
       "      <td>2018-09-25</td>\n",
       "      <td>2018-09-25T18:17:00Z</td>\n",
       "      <td>deu-942932</td>\n",
       "      <td>False</td>\n",
       "      <td>deu</td>\n",
       "      <td>{}</td>\n",
       "      <td>0.843137</td>\n",
       "      <td>{'uri': 'n-tv.de', 'dataType': 'news', 'title'...</td>\n",
       "      <td>18:17:00</td>\n",
       "      <td>\"Feigenblatt für Rassismus\": AfD-Gruppe für Ju...</td>\n",
       "      <td>954645924</td>\n",
       "      <td>https://www.n-tv.de/politik/AfD-Gruppe-fuer-Ju...</td>\n",
       "      <td>275595420</td>\n",
       "    </tr>\n",
       "    <tr>\n",
       "      <th>4</th>\n",
       "      <td>[]</td>\n",
       "      <td>Im September 2017 trat Steffen Henssler die Na...</td>\n",
       "      <td>news</td>\n",
       "      <td>2018-09-25</td>\n",
       "      <td>2018-09-25T17:58:00Z</td>\n",
       "      <td>zho-439793</td>\n",
       "      <td>False</td>\n",
       "      <td>deu</td>\n",
       "      <td>{}</td>\n",
       "      <td>0.803922</td>\n",
       "      <td>{'uri': 'n-tv.de', 'dataType': 'news', 'title'...</td>\n",
       "      <td>17:58:00</td>\n",
       "      <td>\"Zuschauer will mich so nicht\": \"Schlag den He...</td>\n",
       "      <td>954633272</td>\n",
       "      <td>https://www.n-tv.de/leute/Schlag-den-Henssler-...</td>\n",
       "      <td>275594280</td>\n",
       "    </tr>\n",
       "  </tbody>\n",
       "</table>\n",
       "</div>"
      ],
      "text/plain": [
       "  authors                                               body dataType  \\\n",
       "0      []  Werder Bremen ist nun Bayern-Jäger Nummer eins...     news   \n",
       "1      []  Der 1. FC Köln verhagelt dem neuen Ingolstadt-...     news   \n",
       "2      []  Eine Frau verabredet sich mit einem Bundeswehr...     news   \n",
       "3      []  Anfang Oktober soll die Gruppierung \"Juden in ...     news   \n",
       "4      []  Im September 2017 trat Steffen Henssler die Na...     news   \n",
       "\n",
       "         date              dateTime     eventUri  isDuplicate lang  \\\n",
       "0  2018-09-25  2018-09-25T18:40:00Z   deu-941965        False  deu   \n",
       "1  2018-09-25  2018-09-25T18:40:00Z   deu-942798        False  deu   \n",
       "2  2018-09-25  2018-09-25T18:17:00Z  eng-4296380        False  deu   \n",
       "3  2018-09-25  2018-09-25T18:17:00Z   deu-942932        False  deu   \n",
       "4  2018-09-25  2018-09-25T17:58:00Z   zho-439793        False  deu   \n",
       "\n",
       "            shares       sim  \\\n",
       "0  {'facebook': 3}  0.576471   \n",
       "1               {}  0.486275   \n",
       "2               {}  0.682353   \n",
       "3               {}  0.843137   \n",
       "4               {}  0.803922   \n",
       "\n",
       "                                              source      time  \\\n",
       "0  {'uri': 'n-tv.de', 'dataType': 'news', 'title'...  18:40:00   \n",
       "1  {'uri': 'n-tv.de', 'dataType': 'news', 'title'...  18:40:00   \n",
       "2  {'uri': 'n-tv.de', 'dataType': 'news', 'title'...  18:17:00   \n",
       "3  {'uri': 'n-tv.de', 'dataType': 'news', 'title'...  18:17:00   \n",
       "4  {'uri': 'n-tv.de', 'dataType': 'news', 'title'...  17:58:00   \n",
       "\n",
       "                                               title        uri  \\\n",
       "0  Kohfeldts Festung hält Stand: Bremen erzwingt ...  954659464   \n",
       "1  Union Berlin siegt Last Minute: Köln baut Führ...  954659463   \n",
       "2  Sexualdelikt in Kaserne: Soldat soll 21-Jährig...  954645925   \n",
       "3  \"Feigenblatt für Rassismus\": AfD-Gruppe für Ju...  954645924   \n",
       "4  \"Zuschauer will mich so nicht\": \"Schlag den He...  954633272   \n",
       "\n",
       "                                                 url        wgt  \n",
       "0  https://www.n-tv.de/sport/fussball/Bremen-erzw...  275596800  \n",
       "1  https://www.n-tv.de/sport/fussball/Koeln-baut-...  275596800  \n",
       "2  https://www.n-tv.de/panorama/Soldat-soll-21-Ja...  275595420  \n",
       "3  https://www.n-tv.de/politik/AfD-Gruppe-fuer-Ju...  275595420  \n",
       "4  https://www.n-tv.de/leute/Schlag-den-Henssler-...  275594280  "
      ]
     },
     "execution_count": 13,
     "metadata": {},
     "output_type": "execute_result"
    }
   ],
   "source": [
    "df.head()"
   ]
  },
  {
   "cell_type": "code",
   "execution_count": null,
   "metadata": {
    "collapsed": true
   },
   "outputs": [],
   "source": []
  },
  {
   "cell_type": "markdown",
   "metadata": {},
   "source": [
    "## Get Articles with \"NewsDownloader\""
   ]
  },
  {
   "cell_type": "code",
   "execution_count": null,
   "metadata": {
    "collapsed": true
   },
   "outputs": [],
   "source": [
    "from NewsDownloader import NewsDownloader"
   ]
  },
  {
   "cell_type": "code",
   "execution_count": 2,
   "metadata": {
    "collapsed": true
   },
   "outputs": [],
   "source": [
    "private_uris = [\n",
    "    \"stern.de\",\"spiegel.de\",\"focus.de\",\"welt.de\",\"zeit.de\",\"bild.de\",\"handelsblatt.com\"]\n",
    "public_uris = [\n",
    "    \"tagesschau.de\",\"heute.de\",\"deutschlandfunk.de\",\"phoenix.de\",\"wdr.de\",\"ndr.de\"]"
   ]
  },
  {
   "cell_type": "code",
   "execution_count": null,
   "metadata": {
    "collapsed": true
   },
   "outputs": [],
   "source": [
    "private = NewsDownloader('private_30_nov', source_uris=private_uris)\n",
    "public = NewsDownloader('public_30_nov', source_uris=public_uris)"
   ]
  },
  {
   "cell_type": "markdown",
   "metadata": {},
   "source": [
    "### Import Data"
   ]
  },
  {
   "cell_type": "code",
   "execution_count": 4,
   "metadata": {
    "collapsed": true
   },
   "outputs": [],
   "source": [
    "private = open(\"private_22_nov.pkl\",\"rb\")\n",
    "public = open(\"public_22_nov.pkl\",\"rb\")"
   ]
  },
  {
   "cell_type": "code",
   "execution_count": 5,
   "metadata": {
    "collapsed": true
   },
   "outputs": [],
   "source": [
    "private_list = pickle.load(private)\n",
    "public_list = pickle.load(public)"
   ]
  },
  {
   "cell_type": "code",
   "execution_count": 6,
   "metadata": {
    "collapsed": true
   },
   "outputs": [],
   "source": [
    "df_private = pd.DataFrame(private_list)\n",
    "df_public = pd.DataFrame(public_list)"
   ]
  },
  {
   "cell_type": "code",
   "execution_count": 7,
   "metadata": {
    "collapsed": true
   },
   "outputs": [],
   "source": [
    "df = pd.concat([df_private, df_public])"
   ]
  },
  {
   "cell_type": "code",
   "execution_count": 18,
   "metadata": {},
   "outputs": [
    {
     "data": {
      "text/plain": [
       "(22646, 15)"
      ]
     },
     "execution_count": 18,
     "metadata": {},
     "output_type": "execute_result"
    }
   ],
   "source": [
    "df.shape"
   ]
  },
  {
   "cell_type": "code",
   "execution_count": 9,
   "metadata": {},
   "outputs": [
    {
     "data": {
      "text/html": [
       "<div>\n",
       "<style>\n",
       "    .dataframe thead tr:only-child th {\n",
       "        text-align: right;\n",
       "    }\n",
       "\n",
       "    .dataframe thead th {\n",
       "        text-align: left;\n",
       "    }\n",
       "\n",
       "    .dataframe tbody tr th {\n",
       "        vertical-align: top;\n",
       "    }\n",
       "</style>\n",
       "<table border=\"1\" class=\"dataframe\">\n",
       "  <thead>\n",
       "    <tr style=\"text-align: right;\">\n",
       "      <th></th>\n",
       "      <th>body</th>\n",
       "      <th>date</th>\n",
       "      <th>dateTime</th>\n",
       "      <th>eventUri</th>\n",
       "      <th>id</th>\n",
       "      <th>isDuplicate</th>\n",
       "      <th>lang</th>\n",
       "      <th>shares</th>\n",
       "      <th>sim</th>\n",
       "      <th>source</th>\n",
       "      <th>time</th>\n",
       "      <th>title</th>\n",
       "      <th>uri</th>\n",
       "      <th>url</th>\n",
       "      <th>wgt</th>\n",
       "    </tr>\n",
       "  </thead>\n",
       "  <tbody>\n",
       "    <tr>\n",
       "      <th>0</th>\n",
       "      <td>Berlin - Elf Clubs beginnen heute die Vorberei...</td>\n",
       "      <td>2018-01-01</td>\n",
       "      <td>2018-01-01T23:53:00Z</td>\n",
       "      <td>None</td>\n",
       "      <td>35246703</td>\n",
       "      <td>False</td>\n",
       "      <td>deu</td>\n",
       "      <td>{}</td>\n",
       "      <td>0.0</td>\n",
       "      <td>{'id': '47', 'uri': 'stern.de', 'title': 'ster...</td>\n",
       "      <td>23:53:00</td>\n",
       "      <td>Bundesligisten beginnen Vorbereitung</td>\n",
       "      <td>786774474</td>\n",
       "      <td>https://www.stern.de/panorama/bundesligisten-b...</td>\n",
       "      <td>1</td>\n",
       "    </tr>\n",
       "    <tr>\n",
       "      <th>1</th>\n",
       "      <td>Der neue \"Taunuskrimi\" beginnt mit einem Blick...</td>\n",
       "      <td>2018-01-01</td>\n",
       "      <td>2018-01-01T23:01:00Z</td>\n",
       "      <td>None</td>\n",
       "      <td>35245360</td>\n",
       "      <td>False</td>\n",
       "      <td>deu</td>\n",
       "      <td>{}</td>\n",
       "      <td>0.0</td>\n",
       "      <td>{'id': '47', 'uri': 'stern.de', 'title': 'ster...</td>\n",
       "      <td>23:01:00</td>\n",
       "      <td>Im Wald - Ein Taunuskrimi</td>\n",
       "      <td>786769824</td>\n",
       "      <td>https://www.stern.de/kultur/tv/tv-tipp-im-wald...</td>\n",
       "      <td>1</td>\n",
       "    </tr>\n",
       "    <tr>\n",
       "      <th>2</th>\n",
       "      <td>Berlin (dpa) - Es ist Winter und Cuba Gooding ...</td>\n",
       "      <td>2018-01-01</td>\n",
       "      <td>2018-01-01T23:01:00Z</td>\n",
       "      <td>None</td>\n",
       "      <td>35244626</td>\n",
       "      <td>False</td>\n",
       "      <td>deu</td>\n",
       "      <td>{}</td>\n",
       "      <td>0.0</td>\n",
       "      <td>{'id': '47', 'uri': 'stern.de', 'title': 'ster...</td>\n",
       "      <td>23:01:00</td>\n",
       "      <td>Promi-Geburtstag vom 2. Januar 2018: Cuba Good...</td>\n",
       "      <td>786767388</td>\n",
       "      <td>https://www.stern.de/lifestyle/leute/us-schaus...</td>\n",
       "      <td>1</td>\n",
       "    </tr>\n",
       "  </tbody>\n",
       "</table>\n",
       "</div>"
      ],
      "text/plain": [
       "                                                body        date  \\\n",
       "0  Berlin - Elf Clubs beginnen heute die Vorberei...  2018-01-01   \n",
       "1  Der neue \"Taunuskrimi\" beginnt mit einem Blick...  2018-01-01   \n",
       "2  Berlin (dpa) - Es ist Winter und Cuba Gooding ...  2018-01-01   \n",
       "\n",
       "               dateTime eventUri        id  isDuplicate lang shares  sim  \\\n",
       "0  2018-01-01T23:53:00Z     None  35246703        False  deu     {}  0.0   \n",
       "1  2018-01-01T23:01:00Z     None  35245360        False  deu     {}  0.0   \n",
       "2  2018-01-01T23:01:00Z     None  35244626        False  deu     {}  0.0   \n",
       "\n",
       "                                              source      time  \\\n",
       "0  {'id': '47', 'uri': 'stern.de', 'title': 'ster...  23:53:00   \n",
       "1  {'id': '47', 'uri': 'stern.de', 'title': 'ster...  23:01:00   \n",
       "2  {'id': '47', 'uri': 'stern.de', 'title': 'ster...  23:01:00   \n",
       "\n",
       "                                               title        uri  \\\n",
       "0               Bundesligisten beginnen Vorbereitung  786774474   \n",
       "1                          Im Wald - Ein Taunuskrimi  786769824   \n",
       "2  Promi-Geburtstag vom 2. Januar 2018: Cuba Good...  786767388   \n",
       "\n",
       "                                                 url  wgt  \n",
       "0  https://www.stern.de/panorama/bundesligisten-b...    1  \n",
       "1  https://www.stern.de/kultur/tv/tv-tipp-im-wald...    1  \n",
       "2  https://www.stern.de/lifestyle/leute/us-schaus...    1  "
      ]
     },
     "execution_count": 9,
     "metadata": {},
     "output_type": "execute_result"
    }
   ],
   "source": [
    "df.head(3)"
   ]
  },
  {
   "cell_type": "markdown",
   "metadata": {
    "collapsed": true
   },
   "source": [
    "## Save Data to csv"
   ]
  },
  {
   "cell_type": "code",
   "execution_count": 14,
   "metadata": {},
   "outputs": [],
   "source": [
    "df.to_csv('eventbride_18_09_25.csv')"
   ]
  },
  {
   "cell_type": "code",
   "execution_count": null,
   "metadata": {
    "collapsed": true
   },
   "outputs": [],
   "source": []
  }
 ],
 "metadata": {
  "kernelspec": {
   "display_name": "Python 3",
   "language": "python",
   "name": "python3"
  },
  "language_info": {
   "codemirror_mode": {
    "name": "ipython",
    "version": 3
   },
   "file_extension": ".py",
   "mimetype": "text/x-python",
   "name": "python",
   "nbconvert_exporter": "python",
   "pygments_lexer": "ipython3",
   "version": "3.6.5"
  }
 },
 "nbformat": 4,
 "nbformat_minor": 2
}
